{
 "cells": [
  {
   "cell_type": "markdown",
   "metadata": {},
   "source": [
    "# PTT 網路爬蟲實作練習\n",
    "\n",
    "\n",
    "* 能夠利用 Request + BeatifulSour 撰寫爬蟲，並存放到合適的資料結構\n"
   ]
  },
  {
   "cell_type": "markdown",
   "metadata": {},
   "source": [
    "## 作業目標\n",
    "\n",
    "根據範例 ，完成以下問題：\n",
    "\n",
    "* ① 印出最新文章的「作者」「標題」「時間」\n",
    "* ② 印出第一頁所有文章的「作者」「標題」「時間」\n"
   ]
  },
  {
   "cell_type": "code",
   "execution_count": 1,
   "metadata": {},
   "outputs": [],
   "source": [
    "import requests\n",
    "import re\n",
    "from bs4 import BeautifulSoup\n",
    "\n",
    "url = 'https://www.ptt.cc/bbs/NBA/index.html'\n",
    "htmlfile = requests.get(url)\n",
    "\n",
    "soup = BeautifulSoup(htmlfile.text, \"html5lib\")"
   ]
  },
  {
   "cell_type": "code",
   "execution_count": 2,
   "metadata": {},
   "outputs": [
    {
     "name": "stdout",
     "output_type": "stream",
     "text": [
      "(本文已被刪除) [namie810303]\n",
      "Re: [情報] 西河去巫師 Wall去火箭\n",
      "作者: ClownT (克朗)\n",
      "Re: [新聞] PG怨前主帥「把我當雷槍」　雷納德遭\n",
      "作者: dragon803 (好想去露營啊~)\n",
      "[情報] 快艇球員無法接受PG的特權/PG受到訪問\n",
      "作者: andy82116 (鯊魚吃魚翅)\n",
      "[新聞] 快艇記者：球隊輸球後各自玩手機，關係冷\n",
      "作者: blackheart33 (無名小燭)\n",
      "(本文已被刪除) [VeryGoodBoy]\n",
      "(本文已被刪除) [VeryGoodBoy]\n",
      "[花邊] 健康狀態迎向新賽季 威廉森：我已經準備好\n",
      "作者: thnlkj0665 (灰色地帶)\n",
      "[新聞] George說球隊缺乏足夠準備面對崩潰\n",
      "作者: andy82116 (鯊魚吃魚翅)\n",
      "[情報] Hayward:在Boston過得很開心 但在黃蜂我\n",
      "作者: sezna (sezna)\n",
      "[情報] LBJ無意在明夏成為自由球員幫助湖人引入\n",
      "作者: wwf1588 (s-n-imn)\n",
      "[花邊] James：我曾想讓Doncic成為簽約LeBron團\n",
      "作者: bbbyes123 (冬日將至)\n",
      "[情報] 河流講西門投球麻煩:如果他都不投球 我OK\n",
      "作者: pneumo (超☆冒險蓋)\n",
      "[公告] 板規v6.8\n",
      "[公告] 季後賽條款於10/14零時解除\n",
      "作者: namie810303 (爽喔!! 你看看你)\n",
      "[公告] 關於交易簽約相關情報文不限額度 \n",
      "作者: namie810303 (爽喔!! 你看看你)\n",
      "[情報] 2020-21 自由球員市場異動 (表格)(12/3)\n",
      "[情報] 2020-21 自由球員市場異動 (每日文字)  \n"
     ]
    }
   ],
   "source": [
    "for d in soup.find_all(class_=\"title\"):\n",
    "    print(d.text.replace('\\t', '').replace('\\n', ''))\n",
    "    try:\n",
    "        htmlfile = BeautifulSoup(requests.get('https://www.ptt.cc'+d.find('a')['href']).text, \"html5lib\")\n",
    "        print('作者: ' + htmlfile.find(class_='article-meta-value').text)\n",
    "    except:\n",
    "        continue"
   ]
  },
  {
   "cell_type": "markdown",
   "metadata": {},
   "source": [
    "### ① 印出最新文章的「作者」「標題」「時間」"
   ]
  },
  {
   "cell_type": "code",
   "execution_count": 3,
   "metadata": {},
   "outputs": [],
   "source": [
    "import requests\n",
    "import re\n",
    "from bs4 import BeautifulSoup"
   ]
  },
  {
   "cell_type": "code",
   "execution_count": null,
   "metadata": {},
   "outputs": [],
   "source": [
    "import requests\n",
    "from bs4 import BeautifulSoup\n",
    "\n",
    "url = 'https://www.ptt.cc/bbs/NBA/index.html'\n",
    "r = requests.get(url)\n",
    "\n",
    "soup = BeautifulSoup(r.text, \"html5lib\")\n",
    "\n",
    "for d in soup.find_all(class_=\"title\"):\n",
    "    print(d.text.replace('\\t', '').replace('\\n', ''))\n",
    "    try:\n",
    "        r = BeautifulSoup(requests.get('https://www.ptt.cc'+d.find('a')['href']).text, \"html5lib\")\n",
    "        print('作者: ' + r.find(class_='article-meta-value').text)\n",
    "    except:\n",
    "        continue\n"
   ]
  },
  {
   "cell_type": "code",
   "execution_count": 6,
   "metadata": {},
   "outputs": [
    {
     "ename": "TypeError",
     "evalue": "'NoneType' object is not subscriptable",
     "output_type": "error",
     "traceback": [
      "\u001b[0;31m---------------------------------------------------------------------------\u001b[0m",
      "\u001b[0;31mTypeError\u001b[0m                                 Traceback (most recent call last)",
      "\u001b[0;32m<ipython-input-6-edd677845703>\u001b[0m in \u001b[0;36m<module>\u001b[0;34m\u001b[0m\n\u001b[1;32m      4\u001b[0m \u001b[0msoup1\u001b[0m \u001b[0;34m=\u001b[0m \u001b[0mBeautifulSoup\u001b[0m\u001b[0;34m(\u001b[0m\u001b[0mhtmlfile\u001b[0m\u001b[0;34m.\u001b[0m\u001b[0mtext\u001b[0m\u001b[0;34m,\u001b[0m \u001b[0;34m\"html5lib\"\u001b[0m\u001b[0;34m)\u001b[0m\u001b[0;34m\u001b[0m\u001b[0;34m\u001b[0m\u001b[0m\n\u001b[1;32m      5\u001b[0m \u001b[0;34m\u001b[0m\u001b[0m\n\u001b[0;32m----> 6\u001b[0;31m \u001b[0murl1\u001b[0m \u001b[0;34m=\u001b[0m \u001b[0;34m'https://www.ptt.cc'\u001b[0m\u001b[0;34m+\u001b[0m\u001b[0msoup1\u001b[0m\u001b[0;34m.\u001b[0m\u001b[0mfind_all\u001b[0m\u001b[0;34m(\u001b[0m\u001b[0mclass_\u001b[0m\u001b[0;34m=\u001b[0m\u001b[0;34m\"title\"\u001b[0m\u001b[0;34m)\u001b[0m\u001b[0;34m[\u001b[0m\u001b[0;36m0\u001b[0m\u001b[0;34m]\u001b[0m\u001b[0;34m.\u001b[0m\u001b[0mfind\u001b[0m\u001b[0;34m(\u001b[0m\u001b[0;34m'a'\u001b[0m\u001b[0;34m)\u001b[0m\u001b[0;34m[\u001b[0m\u001b[0;34m'href'\u001b[0m\u001b[0;34m]\u001b[0m\u001b[0;34m\u001b[0m\u001b[0;34m\u001b[0m\u001b[0m\n\u001b[0m\u001b[1;32m      7\u001b[0m \u001b[0;34m\u001b[0m\u001b[0m\n\u001b[1;32m      8\u001b[0m \u001b[0mhtmlfile1\u001b[0m \u001b[0;34m=\u001b[0m \u001b[0mrequests\u001b[0m\u001b[0;34m.\u001b[0m\u001b[0mget\u001b[0m\u001b[0;34m(\u001b[0m\u001b[0murl1\u001b[0m\u001b[0;34m)\u001b[0m\u001b[0;34m\u001b[0m\u001b[0;34m\u001b[0m\u001b[0m\n",
      "\u001b[0;31mTypeError\u001b[0m: 'NoneType' object is not subscriptable"
     ]
    }
   ],
   "source": [
    "url = 'https://www.ptt.cc/bbs/NBA/index.html'\n",
    "htmlfile = requests.get(url)\n",
    "\n",
    "soup1 = BeautifulSoup(htmlfile.text, \"html5lib\")\n",
    "\n",
    "url1 = 'https://www.ptt.cc'+soup1.find_all(class_=\"title\")[0].find('a')['href']\n",
    "\n",
    "htmlfile1 = requests.get(url1)\n",
    "soup = BeautifulSoup(htmlfile1.text, \"html5lib\")\n",
    "\n",
    "print('作者 = ' + soup.find_all(class_='article-meta-value')[0].text)\n",
    "print('標題 = ' + soup.find_all(class_='article-meta-value')[2].text)\n",
    "print('時間 = ' + soup.find_all(class_='article-meta-value')[3].text)\n",
    "url"
   ]
  },
  {
   "cell_type": "markdown",
   "metadata": {},
   "source": [
    "### ② 印出第一頁所有文章的「作者」「標題」「時間」"
   ]
  },
  {
   "cell_type": "code",
   "execution_count": 6,
   "metadata": {},
   "outputs": [
    {
     "name": "stdout",
     "output_type": "stream",
     "text": [
      "作者 : Muma5566 (木馬56)\n",
      "標題 : [新聞] Tatum:會努力幫助球隊贏球，自己也想入選全明星\n",
      "時間 : Wed Dec 11 13:40:59 2019 \n",
      "\n",
      "作者 : TheBatman (蝙蝠俠)\n",
      "標題 : [花邊] Nelson談論當年Howard在魔術的\"魔獸人生\"\n",
      "時間 : Wed Dec 11 13:52:04 2019 \n",
      "\n",
      "作者 : LinBaoYan (負酬者聯盟)\n",
      "標題 : [新聞] 卡特第1500場出賽 史上第5人\n",
      "時間 : Wed Dec 11 13:55:41 2019 \n",
      "\n",
      "作者 : thnlkj0665 (灰色地帶)\n",
      "標題 : [花邊] 厄文持續缺賽 錯失激勵獎金12.5萬美元\n",
      "時間 : Wed Dec 11 14:38:00 2019 \n",
      "\n",
      "作者 : kairiyu (E N O U G H  is  enough)\n",
      "標題 : [花邊] 當湖人主場播放歌手Lizzo歌曲時，本人在場邊直接表演露臀舞\n",
      "時間 : Wed Dec 11 14:59:16 2019 \n",
      "\n",
      "作者 : innocent8675 (坤溪戴維斯)\n",
      "標題 : [花邊]\n",
      "時間 : Wed Dec 11 14:59:57 2019 \n",
      "\n",
      "作者 : NSYSUheng (Madara)\n",
      "標題 : [花邊] KD重申了自己想要擁有一支NBA球隊的願望\n",
      "時間 : Wed Dec 11 15:39:17 2019 \n",
      "\n",
      "作者 : tmac4ever ()\n",
      "標題 : Re: [花邊] Jimmy Butler的instagram貼文\n",
      "時間 : Wed Dec 11 16:21:42 2019 \n",
      "\n",
      "作者 : Israfil (贖罪聖音)\n",
      "標題 : [新聞] 三分砲火猛烈 伯坦斯：籃框實在太寬了\n",
      "時間 : Wed Dec 11 16:56:49 2019 \n",
      "\n",
      "作者 : thnlkj0665 (灰色地帶)\n",
      "標題 : [情報] New Balance為Kawhi架設看板感謝多倫多\n",
      "時間 : Wed Dec 11 17:39:27 2019 \n",
      "\n",
      "作者 : lovea (lovea)\n",
      "標題 : [花邊] Tacko Fall：KG是傳奇，見到他對我意義\n",
      "時間 : Wed Dec 11 17:54:26 2019 \n",
      "\n",
      "作者 : Darren2012 (達倫)\n",
      "標題 : [討論] 08年京奧男籃的西班牙很謎嗎?\n",
      "時間 : Wed Dec 11 19:33:05 2019 \n",
      "\n",
      "作者 : Vedan (味丹)\n",
      "標題 : [公告] 樂透取消及未來不再開啟樂透\n",
      "時間 : Mon Jun 24 15:08:02 2019 \n",
      "\n",
      "作者 : qazwsx879345 (Rajon Rondo)\n",
      "標題 : [公告] 版主上任相關事項\n",
      "時間 : Fri Oct 25 10:44:03 2019 \n",
      "\n",
      "作者 : JerroLi (銀色小刀)\n",
      "標題 : [情報] SEASON Schedule 賽程 December 19–20\n",
      "時間 : Fri Nov 29 00:46:01 2019 \n",
      "\n",
      "作者 : dragon803 (好想去露營啊~)\n",
      "標題 : [公告]是否禁止basketball top 5文章投票開始\n",
      "時間 : Sun Dec  8 23:55:00 2019 \n",
      "\n"
     ]
    }
   ],
   "source": [
    "url = 'https://www.ptt.cc/bbs/NBA/index.html'\n",
    "htmlfile = requests.get(url)\n",
    "\n",
    "soup = BeautifulSoup(htmlfile.text, \"html5lib\")\n",
    "\n",
    "for d in soup1.find_all(class_=\"title\"):\n",
    "    if d.find('a'):\n",
    "        url = 'https://www.ptt.cc'+d.find('a')['href']\n",
    "        r = requests.get(url)\n",
    "        soup = BeautifulSoup(r.text, \"html5lib\")\n",
    "        try:\n",
    "            print('作者 : ' + soup.find_all(class_='article-meta-value')[0].text)\n",
    "            print('標題 : ' + soup.find_all(class_='article-meta-value')[2].text)\n",
    "            print('時間 : ' + soup.find_all(class_='article-meta-value')[3].text, '\\n')\n",
    "        except:\n",
    "            continue"
   ]
  },
  {
   "cell_type": "markdown",
   "metadata": {},
   "source": [
    "### ③ 試著爬爬看其他版的文章"
   ]
  },
  {
   "cell_type": "code",
   "execution_count": 3,
   "metadata": {},
   "outputs": [],
   "source": [
    "import requests\n",
    "import re\n",
    "from bs4 import BeautifulSoup"
   ]
  },
  {
   "cell_type": "code",
   "execution_count": 10,
   "metadata": {},
   "outputs": [
    {
     "name": "stdout",
     "output_type": "stream",
     "text": [
      "作者 : linshar1111 (linshar)\n",
      "標題 : [情報] 用12塊吃香酥奶油豬仔包\n",
      "時間 : Wed Dec 11 18:20:25 2019 \n",
      "\n",
      "作者 : duocuo (打光)\n",
      "標題 : [情報] 雙十二的淘寶\n",
      "時間 : Wed Dec 11 19:08:12 2019 \n",
      "\n",
      "作者 : freeguy1234 (嚮往自由的那片天)\n",
      "標題 : [情報] 蝦皮全家熱美式$12\n",
      "時間 : Wed Dec 11 19:12:52 2019 \n",
      "\n",
      "作者 : dir2007 (熊貓媽咪)\n",
      "標題 : [情報] 康是美 蘇菲棉條買一送一\n",
      "時間 : Wed Dec 11 19:35:57 2019 \n",
      "\n",
      "作者 : fzalcman (王子)\n",
      "標題 : [情報] Airpod $3973\n",
      "時間 : Wed Dec 11 19:45:32 2019 \n",
      "\n",
      "作者 : PweDiePot (pwe)\n",
      "標題 : [情報] 龍泰 奧地利皇家起士條 253/盒免運\n",
      "時間 : Wed Dec 11 19:57:44 2019 \n",
      "\n",
      "作者 : kadasaki (Ｋ～)\n",
      "標題 : [公告] 省錢板板規 2018.10.29\n",
      "時間 : Mon Jun 11 18:15:16 2018 \n",
      "\n",
      "作者 : kadasaki (Ｋ～)\n",
      "標題 : [公告] 違規檢舉區\n",
      "時間 : Sat Mar 19 22:21:20 2016 \n",
      "\n",
      "作者 : medama ( )\n",
      "標題 : [公告] 未滿1元之集點資訊 請集中在本篇推文\n",
      "時間 : Sun Nov 24 20:12:17 2019 \n",
      "\n"
     ]
    }
   ],
   "source": [
    "url = 'https://www.ptt.cc/bbs/Lifeismoney/index.html'\n",
    "htmlfile = requests.get(url)\n",
    "\n",
    "soup2 = BeautifulSoup(htmlfile.text, \"html5lib\")\n",
    "\n",
    "for d in soup2.find_all(class_=\"title\"):\n",
    "    if d.find('a'):\n",
    "        url = 'https://www.ptt.cc/' + d.find('a')['href']\n",
    "        r = requests.get(url)\n",
    "        soup = BeautifulSoup(r.text, \"html5lib\")\n",
    "        try:\n",
    "            print('作者 : ' + soup.find_all(class_=\"article-meta-value\")[0].text)\n",
    "            print('標題 : ' + soup.find_all(class_=\"article-meta-value\")[2].text)\n",
    "            print('時間 : ' + soup.find_all(class_=\"article-meta-value\")[3].text, '\\n')\n",
    "        except:\n",
    "            continue"
   ]
  }
 ],
 "metadata": {
  "kernelspec": {
   "display_name": "Python 3",
   "language": "python",
   "name": "python3"
  },
  "language_info": {
   "codemirror_mode": {
    "name": "ipython",
    "version": 3
   },
   "file_extension": ".py",
   "mimetype": "text/x-python",
   "name": "python",
   "nbconvert_exporter": "python",
   "pygments_lexer": "ipython3",
   "version": "3.6.8"
  }
 },
 "nbformat": 4,
 "nbformat_minor": 4
}
