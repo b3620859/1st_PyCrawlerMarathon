{
 "cells": [
  {
   "cell_type": "markdown",
   "metadata": {},
   "source": [
    "# PTT 網路爬蟲實作練習\n",
    "\n",
    "\n",
    "* 能夠利用 Request + BeatifulSour 撰寫爬蟲，並存放到合適的資料結構\n"
   ]
  },
  {
   "cell_type": "markdown",
   "metadata": {},
   "source": [
    "## 作業目標\n",
    "\n",
    "根據範例 ，完成以下問題：\n",
    "\n",
    "* ① 印出最新文章的「作者」「標題」「時間」\n",
    "* ② 印出第一頁所有文章的「作者」「標題」「時間」\n"
   ]
  },
  {
   "cell_type": "code",
   "execution_count": 1,
   "metadata": {},
   "outputs": [],
   "source": [
    "import requests\n",
    "import re\n",
    "from bs4 import BeautifulSoup\n",
    "\n",
    "url = 'https://www.ptt.cc/bbs/NBA/index.html'\n",
    "htmlfile = requests.get(url)\n",
    "\n",
    "soup = BeautifulSoup(htmlfile.text, \"html5lib\")"
   ]
  },
  {
   "cell_type": "code",
   "execution_count": 3,
   "metadata": {},
   "outputs": [
    {
     "name": "stdout",
     "output_type": "stream",
     "text": [
      "[討論] AD現在有比巔峰KG強嗎？\n",
      "作者: maxsdtime (臭蛋鼠)\n",
      "[新聞] NBA戰術板 居然MADE IN TAIWAN\n",
      "作者: SAC430 (sac430)\n",
      "[討論] 人們將追逐 Bogdan Bogdanovic\n",
      "作者: humbler (獸人H)\n",
      "[討論] 哪隻奪冠球隊適合Kevin Love\n",
      "作者: KevinLove (Kevin Love)\n",
      "[公告] 板規v6.6\n",
      "[公告] 樂透取消及未來不再開啟樂透\n",
      "作者: Vedan (味丹)\n",
      "[公告] 版主上任相關事項 \n",
      "作者: qazwsx879345 (Rajon Rondo)\n",
      "[情報] SEASON Schedule 賽程 December 19–20\n",
      "作者: JerroLi (銀色小刀)\n",
      "[公告]是否禁止basketball top 5文章投票開始 \n",
      "作者: dragon803 (好想去露營啊~)\n"
     ]
    }
   ],
   "source": [
    "for d in soup.find_all(class_=\"title\"):\n",
    "    print(d.text.replace('\\t', '').replace('\\n', ''))\n",
    "    try:\n",
    "        htmlfile = BeautifulSoup(requests.get('https://www.ptt.cc'+d.find('a')['href']).text, \"html5lib\")\n",
    "        print('作者: ' + htmlfile.find(class_='article-meta-value').text)\n",
    "    except:\n",
    "        continue"
   ]
  },
  {
   "cell_type": "markdown",
   "metadata": {},
   "source": [
    "### ① 印出最新文章的「作者」「標題」「時間」"
   ]
  },
  {
   "cell_type": "code",
   "execution_count": 1,
   "metadata": {},
   "outputs": [],
   "source": [
    "import requests\n",
    "import re\n",
    "from bs4 import BeautifulSoup"
   ]
  },
  {
   "cell_type": "code",
   "execution_count": 5,
   "metadata": {},
   "outputs": [
    {
     "name": "stdout",
     "output_type": "stream",
     "text": [
      "作者 = Muma5566 (木馬56)\n",
      "標題 = [新聞] Tatum:會努力幫助球隊贏球，自己也想入選全明星\n",
      "時間 = Wed Dec 11 13:40:59 2019\n"
     ]
    },
    {
     "data": {
      "text/plain": [
       "'https://www.ptt.cc/bbs/NBA/index.html'"
      ]
     },
     "execution_count": 5,
     "metadata": {},
     "output_type": "execute_result"
    }
   ],
   "source": [
    "url = 'https://www.ptt.cc/bbs/NBA/index.html'\n",
    "htmlfile = requests.get(url)\n",
    "\n",
    "soup1 = BeautifulSoup(htmlfile.text, \"html5lib\")\n",
    "\n",
    "url1 = 'https://www.ptt.cc'+soup1.find_all(class_=\"title\")[0].find('a')['href']\n",
    "htmlfile1 = requests.get(url1)\n",
    "soup = BeautifulSoup(htmlfile1.text, \"html5lib\")\n",
    "\n",
    "print('作者 = ' + soup.find_all(class_='article-meta-value')[0].text)\n",
    "print('標題 = ' + soup.find_all(class_='article-meta-value')[2].text)\n",
    "print('時間 = ' + soup.find_all(class_='article-meta-value')[3].text)\n",
    "url"
   ]
  },
  {
   "cell_type": "markdown",
   "metadata": {},
   "source": [
    "### ② 印出第一頁所有文章的「作者」「標題」「時間」"
   ]
  },
  {
   "cell_type": "code",
   "execution_count": 6,
   "metadata": {},
   "outputs": [
    {
     "name": "stdout",
     "output_type": "stream",
     "text": [
      "作者 : Muma5566 (木馬56)\n",
      "標題 : [新聞] Tatum:會努力幫助球隊贏球，自己也想入選全明星\n",
      "時間 : Wed Dec 11 13:40:59 2019 \n",
      "\n",
      "作者 : TheBatman (蝙蝠俠)\n",
      "標題 : [花邊] Nelson談論當年Howard在魔術的\"魔獸人生\"\n",
      "時間 : Wed Dec 11 13:52:04 2019 \n",
      "\n",
      "作者 : LinBaoYan (負酬者聯盟)\n",
      "標題 : [新聞] 卡特第1500場出賽 史上第5人\n",
      "時間 : Wed Dec 11 13:55:41 2019 \n",
      "\n",
      "作者 : thnlkj0665 (灰色地帶)\n",
      "標題 : [花邊] 厄文持續缺賽 錯失激勵獎金12.5萬美元\n",
      "時間 : Wed Dec 11 14:38:00 2019 \n",
      "\n",
      "作者 : kairiyu (E N O U G H  is  enough)\n",
      "標題 : [花邊] 當湖人主場播放歌手Lizzo歌曲時，本人在場邊直接表演露臀舞\n",
      "時間 : Wed Dec 11 14:59:16 2019 \n",
      "\n",
      "作者 : innocent8675 (坤溪戴維斯)\n",
      "標題 : [花邊]\n",
      "時間 : Wed Dec 11 14:59:57 2019 \n",
      "\n",
      "作者 : NSYSUheng (Madara)\n",
      "標題 : [花邊] KD重申了自己想要擁有一支NBA球隊的願望\n",
      "時間 : Wed Dec 11 15:39:17 2019 \n",
      "\n",
      "作者 : tmac4ever ()\n",
      "標題 : Re: [花邊] Jimmy Butler的instagram貼文\n",
      "時間 : Wed Dec 11 16:21:42 2019 \n",
      "\n",
      "作者 : Israfil (贖罪聖音)\n",
      "標題 : [新聞] 三分砲火猛烈 伯坦斯：籃框實在太寬了\n",
      "時間 : Wed Dec 11 16:56:49 2019 \n",
      "\n",
      "作者 : thnlkj0665 (灰色地帶)\n",
      "標題 : [情報] New Balance為Kawhi架設看板感謝多倫多\n",
      "時間 : Wed Dec 11 17:39:27 2019 \n",
      "\n",
      "作者 : lovea (lovea)\n",
      "標題 : [花邊] Tacko Fall：KG是傳奇，見到他對我意義\n",
      "時間 : Wed Dec 11 17:54:26 2019 \n",
      "\n",
      "作者 : Darren2012 (達倫)\n",
      "標題 : [討論] 08年京奧男籃的西班牙很謎嗎?\n",
      "時間 : Wed Dec 11 19:33:05 2019 \n",
      "\n",
      "作者 : Vedan (味丹)\n",
      "標題 : [公告] 樂透取消及未來不再開啟樂透\n",
      "時間 : Mon Jun 24 15:08:02 2019 \n",
      "\n",
      "作者 : qazwsx879345 (Rajon Rondo)\n",
      "標題 : [公告] 版主上任相關事項\n",
      "時間 : Fri Oct 25 10:44:03 2019 \n",
      "\n",
      "作者 : JerroLi (銀色小刀)\n",
      "標題 : [情報] SEASON Schedule 賽程 December 19–20\n",
      "時間 : Fri Nov 29 00:46:01 2019 \n",
      "\n",
      "作者 : dragon803 (好想去露營啊~)\n",
      "標題 : [公告]是否禁止basketball top 5文章投票開始\n",
      "時間 : Sun Dec  8 23:55:00 2019 \n",
      "\n"
     ]
    }
   ],
   "source": [
    "url = 'https://www.ptt.cc/bbs/NBA/index.html'\n",
    "htmlfile = requests.get(url)\n",
    "\n",
    "soup = BeautifulSoup(htmlfile.text, \"html5lib\")\n",
    "\n",
    "for d in soup1.find_all(class_=\"title\"):\n",
    "    if d.find('a'):\n",
    "        url = 'https://www.ptt.cc'+d.find('a')['href']\n",
    "        r = requests.get(url)\n",
    "        soup = BeautifulSoup(r.text, \"html5lib\")\n",
    "        try:\n",
    "            print('作者 : ' + soup.find_all(class_='article-meta-value')[0].text)\n",
    "            print('標題 : ' + soup.find_all(class_='article-meta-value')[2].text)\n",
    "            print('時間 : ' + soup.find_all(class_='article-meta-value')[3].text, '\\n')\n",
    "        except:\n",
    "            continue"
   ]
  },
  {
   "cell_type": "markdown",
   "metadata": {},
   "source": [
    "### ③ 試著爬爬看其他版的文章"
   ]
  },
  {
   "cell_type": "code",
   "execution_count": 3,
   "metadata": {},
   "outputs": [],
   "source": [
    "import requests\n",
    "import re\n",
    "from bs4 import BeautifulSoup"
   ]
  },
  {
   "cell_type": "code",
   "execution_count": 10,
   "metadata": {},
   "outputs": [
    {
     "name": "stdout",
     "output_type": "stream",
     "text": [
      "作者 : linshar1111 (linshar)\n",
      "標題 : [情報] 用12塊吃香酥奶油豬仔包\n",
      "時間 : Wed Dec 11 18:20:25 2019 \n",
      "\n",
      "作者 : duocuo (打光)\n",
      "標題 : [情報] 雙十二的淘寶\n",
      "時間 : Wed Dec 11 19:08:12 2019 \n",
      "\n",
      "作者 : freeguy1234 (嚮往自由的那片天)\n",
      "標題 : [情報] 蝦皮全家熱美式$12\n",
      "時間 : Wed Dec 11 19:12:52 2019 \n",
      "\n",
      "作者 : dir2007 (熊貓媽咪)\n",
      "標題 : [情報] 康是美 蘇菲棉條買一送一\n",
      "時間 : Wed Dec 11 19:35:57 2019 \n",
      "\n",
      "作者 : fzalcman (王子)\n",
      "標題 : [情報] Airpod $3973\n",
      "時間 : Wed Dec 11 19:45:32 2019 \n",
      "\n",
      "作者 : PweDiePot (pwe)\n",
      "標題 : [情報] 龍泰 奧地利皇家起士條 253/盒免運\n",
      "時間 : Wed Dec 11 19:57:44 2019 \n",
      "\n",
      "作者 : kadasaki (Ｋ～)\n",
      "標題 : [公告] 省錢板板規 2018.10.29\n",
      "時間 : Mon Jun 11 18:15:16 2018 \n",
      "\n",
      "作者 : kadasaki (Ｋ～)\n",
      "標題 : [公告] 違規檢舉區\n",
      "時間 : Sat Mar 19 22:21:20 2016 \n",
      "\n",
      "作者 : medama ( )\n",
      "標題 : [公告] 未滿1元之集點資訊 請集中在本篇推文\n",
      "時間 : Sun Nov 24 20:12:17 2019 \n",
      "\n"
     ]
    }
   ],
   "source": [
    "url = 'https://www.ptt.cc/bbs/Lifeismoney/index.html'\n",
    "htmlfile = requests.get(url)\n",
    "\n",
    "soup2 = BeautifulSoup(htmlfile.text, \"html5lib\")\n",
    "\n",
    "for d in soup2.find_all(class_=\"title\"):\n",
    "    if d.find('a'):\n",
    "        url = 'https://www.ptt.cc/' + d.find('a')['href']\n",
    "        r = requests.get(url)\n",
    "        soup = BeautifulSoup(r.text, \"html5lib\")\n",
    "        try:\n",
    "            print('作者 : ' + soup.find_all(class_=\"article-meta-value\")[0].text)\n",
    "            print('標題 : ' + soup.find_all(class_=\"article-meta-value\")[2].text)\n",
    "            print('時間 : ' + soup.find_all(class_=\"article-meta-value\")[3].text, '\\n')\n",
    "        except:\n",
    "            continue"
   ]
  }
 ],
 "metadata": {
  "kernelspec": {
   "display_name": "Python 3",
   "language": "python",
   "name": "python3"
  },
  "language_info": {
   "codemirror_mode": {
    "name": "ipython",
    "version": 3
   },
   "file_extension": ".py",
   "mimetype": "text/x-python",
   "name": "python",
   "nbconvert_exporter": "python",
   "pygments_lexer": "ipython3",
   "version": "3.6.8"
  }
 },
 "nbformat": 4,
 "nbformat_minor": 4
}
