{
 "cells": [
  {
   "cell_type": "markdown",
   "metadata": {},
   "source": [
    "# YAHOO電影爬蟲練習\n",
    "## 練習爬取電影放映資訊。必須逐步獲取電影的代號、放映地區、放映日期後，再送出查詢給伺服器。"
   ]
  },
  {
   "cell_type": "code",
   "execution_count": 1,
   "metadata": {},
   "outputs": [],
   "source": [
    "import warnings\n",
    "warnings.filterwarnings('ignore')"
   ]
  },
  {
   "cell_type": "code",
   "execution_count": 2,
   "metadata": {},
   "outputs": [],
   "source": [
    "import requests\n",
    "import re\n",
    "from bs4 import BeautifulSoup"
   ]
  },
  {
   "cell_type": "markdown",
   "metadata": {},
   "source": [
    "### 先搜尋全部的電影代號(ID)資訊"
   ]
  },
  {
   "cell_type": "code",
   "execution_count": 3,
   "metadata": {},
   "outputs": [
    {
     "name": "stdout",
     "output_type": "stream",
     "text": [
      "Movie: 鬼弒訊, ID: 11083\n",
      "Movie: 迷走廣州, ID: 11060\n",
      "Movie: 無間行者之生死潛行, ID: 11051\n",
      "Movie: 未來的我們, ID: 11046\n",
      "Movie: 卡卡囌卡卡衝, ID: 11043\n",
      "Movie: 他們的自由年代, ID: 11037\n",
      "Movie: MISS, ID: 11036\n",
      "Movie: 十二夜2：回到第零天, ID: 11035\n",
      "Movie: 尋找小魔女Doremi, ID: 11027\n",
      "Movie: 外星異種, ID: 11025\n",
      "Movie: 緝毒風暴, ID: 11023\n",
      "Movie: 說不出的告別, ID: 11019\n",
      "Movie: 追殺胖老爹, ID: 11015\n",
      "Movie: 鹿兒流浪記, ID: 11012\n",
      "Movie: 謎樣事件簿, ID: 11011\n",
      "Movie: 慾望摩天輪, ID: 11010\n",
      "Movie: 古魯家族：新石代, ID: 10958\n",
      "Movie: 讓我聽見你的聲音, ID: 11040\n",
      "Movie: 盜墓同盟, ID: 11031\n",
      "Movie: 槍手養成班, ID: 11009\n",
      "Movie: 愛在末路之境, ID: 11008\n",
      "Movie: 婊兄弟上路, ID: 11003\n",
      "Movie: 瘋狂理髮師, ID: 10998\n",
      "Movie: 你是豬, ID: 10995\n",
      "Movie: 消失的星期三, ID: 10949\n",
      "Movie: 同學麥娜絲, ID: 10935\n",
      "Movie: 惡童當街 經典重映, ID: 10932\n",
      "Movie: 名偵探柯南：紅之校外旅行 鮮紅篇&戀紅篇, ID: 10887\n",
      "Movie: 逃, ID: 10565\n",
      "Movie: 海邊的異邦人, ID: 11014\n",
      "Movie: 弒膽遊戲, ID: 10988\n",
      "Movie: 換人殺砍砍, ID: 10933\n",
      "Movie: 祕密：夢想的力量, ID: 10566\n",
      "Movie: 愛麗絲與夢幻島, ID: 11018\n",
      "Movie: 家在蘭若寺, ID: 11034\n",
      "Movie: 5x1, ID: 11032\n",
      "Movie: GIVEN~被贈與的未來劇場版, ID: 11022\n",
      "Movie: 綠洲：數位經典版, ID: 11013\n",
      "Movie: 藥命時空, ID: 11004\n",
      "Movie: 孤味, ID: 10477\n",
      "Movie: 女巫們, ID: 10976\n",
      "Movie: 感官世界, ID: 10999\n",
      "Movie: 破碎的擁抱 經典數位修復, ID: 10924\n",
      "Movie: 壞教慾經典數位修復, ID: 10878\n",
      "Movie: 鬼滅之刃劇場版 無限列車篇, ID: 10816\n",
      "Movie: 碧藍之海劇場版, ID: 10950\n",
      "Movie: 親愛的房客, ID: 10707\n",
      "Movie: 奪命守門人, ID: 10952\n",
      "Movie: 幻愛, ID: 10945\n",
      "Movie: 無聲, ID: 10926\n",
      "Movie: 千年一問, ID: 10948\n",
      "Movie: 倒數反擊, ID: 10906\n",
      "Movie: 愛情列車長, ID: 10857\n",
      "Movie: 特斯拉, ID: 10942\n",
      "Movie: 刻在你心底的名字, ID: 10902\n",
      "Movie: 森林特攻隊：大腳ㄚ家族, ID: 10894\n",
      "Movie: 急先鋒, ID: 10443\n",
      "Movie: 電影哆啦A夢：大雄的新恐龍, ID: 10891\n",
      "Movie: 寂寞調香師, ID: 10905\n",
      "Movie: 名偵探奶奶, ID: 10893\n",
      "Movie: 消失的情人節, ID: 10870\n",
      "Movie: 麥路人, ID: 10900\n",
      "Movie: 訂製幸福滋味, ID: 10908\n",
      "Movie: 密弒直播, ID: 10888\n",
      "Movie: 蠟筆小新：激戰！塗鴉王國與差不多四勇者, ID: 10874\n",
      "Movie: 海霧, ID: 10872\n",
      "Movie: 蘿莉破壞王, ID: 10776\n",
      "Movie: 我是大哥大！！劇場版, ID: 10871\n",
      "Movie: 完美嬌妻養成班, ID: 10588\n",
      "Movie: 花木蘭, ID: 8632\n",
      "Movie: 馗降：粽邪2, ID: 10787\n",
      "Movie: 變種人, ID: 10452\n",
      "Movie: TENET天能, ID: 10433\n",
      "Movie: 看不見的證人, ID: 10873\n",
      "Movie: 天劫倒數, ID: 10850\n",
      "Movie: 不丹是教室, ID: 10789\n",
      "Movie: 東京日和, ID: 7959\n",
      "Movie: 一首搖滾上月球, ID: 4887\n",
      "Movie: 錢不夠用2, ID: 3026\n"
     ]
    }
   ],
   "source": [
    "# 查看目前上映那些電影，並擷取出其ID資訊\n",
    "url = 'https://movies.yahoo.com.tw/'\n",
    "resp = requests.get(url)\n",
    "resp.encoding = 'utf-8'\n",
    "\n",
    "soup = BeautifulSoup(resp.text, 'lxml')\n",
    "html = soup.find(\"select\", attrs={'name':'movie_id'})\n",
    "movie_item = html.find_all(\"option\", attrs={'data-name':re.compile('.*')})\n",
    "\n",
    "for p in movie_item:\n",
    "    print(\"Movie: %s, ID: %s\" % (p[\"data-name\"], p[\"value\"]))"
   ]
  },
  {
   "cell_type": "markdown",
   "metadata": {},
   "source": [
    "### 指定你有興趣的電影其ID，然後查詢其放映地區資訊。"
   ]
  },
  {
   "cell_type": "code",
   "execution_count": 4,
   "metadata": {},
   "outputs": [],
   "source": [
    "# 參考前一個步驟中擷取到的ID資訊，並指定ID\n",
    "movie_id = 10169"
   ]
  },
  {
   "cell_type": "code",
   "execution_count": 5,
   "metadata": {},
   "outputs": [],
   "source": [
    "url = 'https://movies.yahoo.com.tw/api/v1/areas_by_movie_theater'\n",
    "payload = {'movie_id':str(movie_id)}\n",
    "\n",
    "# call api 會發現權限不足所以需按照 Network中的request，模擬一個header\n",
    "# 模擬一個header\n",
    "headers = {\n",
    "    'authority': 'movies.yahoo.com.tw',\n",
    "    'method': 'GET',\n",
    "    'path': '/api/v1/areas_by_movie_theater?movie_id=' + str(movie_id),\n",
    "    'scheme': 'https',\n",
    "    'accept': 'application/json, text/javascript, */*; q=0.01',\n",
    "    'accept-encoding': 'gzip, deflate, br',\n",
    "    'accept-language': 'zh-TW,zh;q=0.9,en-US;q=0.8,en;q=0.7,zh-CN;q=0.6',\n",
    "    'cookie': 'rxx=9s3x2fws06.1g16irnc&v=1; _ga=GA1.3.2056742944.1551651301; GUC=AQEBAQFczFpdm0IfmwSB&s=AQAAACoo4N5D&g=XMsVBw; BX=4hkdk1decm57t&b=3&s=mr; _ga=GA1.4.2056742944.1551651301; nexagesuid=82843256dd234e8e91aa73f2062f8218; browsed_movie=eyJpdiI6IlJXWWtiSWJaZlNGK2MxQnhscnVUYWc9PSIsInZhbHVlIjoiMXRhMmVHRXRIeUNjc1RBWDJzdGYwbnlIQURmWGsrcjJSMzhkbkcraDNJVUNIZEZsbzU3amlFcVZ1NzlmazJrTGpoMjVrbHk1YmpoRENXaHZTOUw1TmI2ZTZVWHdOejZQZm16RmVuMWlHTTJLaTZLVFZZVkFOMDlTd1wvSGltcytJIiwibWFjIjoiZWQ2ZjA4MmVjZmZlYjlmNjJmYmY2NGMyMDI0Njc0NWViYjVkOWE2NDg0N2RhODMxZjBjZDhiMmJhZTc2MDZhYiJ9; avi=eyJpdiI6Im1NeWFJRlVRWDR1endEcGRGUGJUbVE9PSIsInZhbHVlIjoickRpU3JuUytmcGl6cjF5OW0rNU9iZz09IiwibWFjIjoiY2VmY2NkNzZmM2NhNjY5YzlkOTcyNjE5OGEyMzU0NWYxOTdmMDRkMDY3OWNmMmZjOTMxYjc5MjI5N2Q5NGE5MiJ9; cmp=t=1559391030&j=0; _gid=GA1.4.779543841.1559391031; XSRF-TOKEN=eyJpdiI6IkhpS2hGcDRQaHlmWUJmaHdSS2Q2bHc9PSIsInZhbHVlIjoiOUVoNFk4OHI1UUZmUWRtYXhza0MyWjJSTlhlZ3RnT0VGeVJPN2JuczVRMGRFdWt2OUlsamVKeHRobFwvcHBGM0dhU3VyMXNGTHlsb2dVM2l0U1hpUGxBPT0iLCJtYWMiOiJkZWU4YzJhNjAxMTY3MzE4Y2ExNWIxYmE1ZjE1YWZlZTlhOTcyYjc4M2RlZGY4ZWNjZDYyMTA2NGYwZGViMzc2In0%3D; m_s=eyJpdiI6InpsZHZ2Tk1BZ0dxaHhETml1RjBnUXc9PSIsInZhbHVlIjoiSkNGeHUranRoXC85bDFiaDhySTJqNkJRcWdjWUxjeVRJSHVYZ1wvd2d4bWJZUTUrSHVDM0lUcW5KNHdETFZ4T1lieU81OUhzc1VoUXhZcWk0UDZSQXVFdz09IiwibWFjIjoiYmJkMDJkMDhlODIzMzcyMWY4M2NmYWNjNGVlOWRjMDIwZmVmNzAyMjE3Yzg3ZGY3ODBkZWEzZTI4MTI5ZWNmOSJ9; _gat=1; nexagesd=10',\n",
    "    'dnt': '1',\n",
    "    'mv-authorization': '21835b082e15b91a69b3851eec7b31b82ce82afb',\n",
    "    'referer': 'https://movies.yahoo.com.tw/',\n",
    "    'user-agent': 'Mozilla/5.0 (Windows NT 10.0; Win64; x64) AppleWebKit/537.36 (KHTML, like Gecko) Chrome/74.0.3729.169 Safari/537.36',\n",
    "    'x-requested-with': 'XMLHttpRequest',\n",
    "}\n",
    "    \n",
    "resp = requests.get(url, params=payload, headers=headers)\n",
    "# print(resp.json())  # 若有需要，列印出json原始碼\n",
    "\n",
    "# 這裡回傳的格式是JSON格式的資料，要解析JSON擷取資料\n",
    "for p in resp.json():\n",
    "    print('放映地區: {0}, 代號(area_id): {1}'.format(p['title'], p['area_id']))"
   ]
  },
  {
   "cell_type": "markdown",
   "metadata": {},
   "source": [
    "### 指定你想要觀看的放映地區，查詢有上映電影的場次日期"
   ]
  },
  {
   "cell_type": "code",
   "execution_count": 6,
   "metadata": {},
   "outputs": [],
   "source": [
    "# 指定放映地區\n",
    "area_id = 28"
   ]
  },
  {
   "cell_type": "code",
   "execution_count": 7,
   "metadata": {},
   "outputs": [
    {
     "name": "stdout",
     "output_type": "stream",
     "text": [
      "十二月 3\n",
      "十二月 4\n",
      "十二月 5\n",
      "十二月 6\n",
      "十二月 7\n"
     ]
    }
   ],
   "source": [
    "# 向網站發送請求\n",
    "url = 'https://movies.yahoo.com.tw/movietime_result.html'\n",
    "payload = {'movie_id':str(movie_id), 'area_id':str(area_id)}\n",
    "resp = requests.get(url, params=payload)\n",
    "resp.encoding = 'utf-8'\n",
    "\n",
    "soup = BeautifulSoup(resp.text, 'lxml')\n",
    "movie_date = soup.find_all(\"label\", attrs={'for':re.compile(\"date_[\\d]\")})\n",
    "\n",
    "# 列印播放日期\n",
    "for date in movie_date:\n",
    "    print(\"%s %s\" % (date.p.string, date.h3.string))"
   ]
  },
  {
   "cell_type": "markdown",
   "metadata": {},
   "source": [
    "### 最後指定觀看的日期，查詢並列印出放映的電影院、放映類型(數位、3D、IMAX 3D...)、放映時間等資訊。"
   ]
  },
  {
   "cell_type": "code",
   "execution_count": 8,
   "metadata": {},
   "outputs": [],
   "source": [
    "# 選定要觀看的日期\n",
    "date = \"2019-08-21\""
   ]
  },
  {
   "cell_type": "code",
   "execution_count": 9,
   "metadata": {},
   "outputs": [],
   "source": [
    "# 向網站發送請求，獲取上映的電影院及時間資訊\n",
    "url = \"https://movies.yahoo.com.tw/ajax/pc/get_schedule_by_movie\"\n",
    "payload = {'movie_id':str(movie_id),\n",
    "           'date':date,\n",
    "           'area_id':str(area_id),\n",
    "           'theater_id':'',\n",
    "           'datetime':'',\n",
    "           'movie_type_id':''}\n",
    "\n",
    "resp = requests.get(url, params=payload)\n",
    "#print(resp.json()['view'])  # 若有需要，列印出json原始碼\n",
    "\n",
    "soup = BeautifulSoup(resp.json()['view'], 'lxml')\n",
    "html = soup.find_all(\"ul\", attrs={'data-theater_name':re.compile(\".*\")})"
   ]
  },
  {
   "cell_type": "code",
   "execution_count": 10,
   "metadata": {},
   "outputs": [],
   "source": [
    "\n",
    "for theater in html:\n",
    "    print(\"----------------------------------------------------------------------\")\n",
    "    print(\"電影院:  %s\" % theater['data-theater_name'])\n",
    "    movie_info = theater.find_all(\"li\", attrs={\"class\":\"taps\"})\n",
    "    taps = []\n",
    "    for info in movie_info:\n",
    "        movie_type = info.find_all(\"span\")\n",
    "        tap = []\n",
    "        for mtype in movie_type:\n",
    "            tap.append(mtype.text)\n",
    "        taps.append(' '.join(tap))\n",
    "    movie_info = theater.find_all(\"div\", attrs={\"class\":\"input_picker jq_input_picker\"})\n",
    "    for info in range(len(movie_info)):\n",
    "        print(\"放映類型:  %s\" % taps[info])\n",
    "        schedule_list = movie_info[info].find_all(\"input\", attrs={\"class\":\"gabtn\"})\n",
    "        for schedule in schedule_list:\n",
    "            print(schedule['value'])"
   ]
  }
 ],
 "metadata": {
  "kernelspec": {
   "display_name": "Python 3",
   "language": "python",
   "name": "python3"
  },
  "language_info": {
   "codemirror_mode": {
    "name": "ipython",
    "version": 3
   },
   "file_extension": ".py",
   "mimetype": "text/x-python",
   "name": "python",
   "nbconvert_exporter": "python",
   "pygments_lexer": "ipython3",
   "version": "3.6.8"
  }
 },
 "nbformat": 4,
 "nbformat_minor": 4
}
