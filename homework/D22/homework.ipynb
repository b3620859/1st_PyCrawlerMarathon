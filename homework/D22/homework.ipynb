{
 "cells": [
  {
   "cell_type": "markdown",
   "metadata": {},
   "source": [
    "# 動態網頁爬蟲 - 使用 Selenium\n",
    "\n",
    "* 了解 Selenium 用於動態網頁爬蟲的原理\n",
    "* 能夠使用 Selenium 撰寫動態網頁爬蟲"
   ]
  },
  {
   "cell_type": "markdown",
   "metadata": {},
   "source": [
    "## 作業目標\n",
    "\n",
    "* 1. 根據範例使用 selenuim 取出 Hahow 網站中所有課程的資料，並用一個適合的資料結構儲存（Hint: 將所有資料存在一個變數當中取出）\n",
    "* 2. 剛剛的做法只能取出第一頁，試著取出所有頁面的資料。\n",
    "\n"
   ]
  },
  {
   "cell_type": "markdown",
   "metadata": {},
   "source": [
    "### 1. 根據範例使用 selenuim 取出 Hahow 網站中所有課程的資料，並用一個適合的資料結構儲存（Hint: 將所有資料存在一個變數當中取出）"
   ]
  },
  {
   "cell_type": "code",
   "execution_count": 38,
   "metadata": {},
   "outputs": [],
   "source": [
    "from selenium import webdriver\n",
    "from selenium.webdriver.support.ui import Select\n",
    "from bs4 import BeautifulSoup\n",
    "\n",
    "browser = webdriver.Chrome(executable_path='./chromedriver')\n",
    "browser.get(\"https://hahow.in/courses\")"
   ]
  },
  {
   "cell_type": "code",
   "execution_count": 39,
   "metadata": {},
   "outputs": [],
   "source": [
    "# 取得資料（等瀏覽器資料出現後才執行）\n",
    "html_source = browser.page_source\n",
    "html_source\n",
    "\n",
    "# 取得資料\n",
    "html_source = browser.page_source\n",
    "soup = BeautifulSoup(html_source, 'html.parser')\n"
   ]
  },
  {
   "cell_type": "code",
   "execution_count": 35,
   "metadata": {},
   "outputs": [
    {
     "name": "stdout",
     "output_type": "stream",
     "text": [
      "五星級法式經典甜點在家做\n",
      "掌握鉤針編織邏輯：五種針法自造生活小物\n",
      "Python 推薦系統入門: 打造令人上癮的產品\n",
      "堯中人像攝影創作：掌握光影發掘人像質感\n",
      "日新麥克筆魔法：十支筆創造新視界－慕夏篇\n",
      "志祺的架構性思考：從資訊整理到觀點表達\n",
      " PS 核心技法 | 調色技法完全講解篇\n",
      "҉唐鳳҉數位溝通社：就這樣把你增幅\n",
      "四叉貓網美談資社：美少女反串溝通愛心光波\n",
      "楊大正台語詞創社：咱就大力來寫著歌\n",
      "大支嘻哈研究社：饒舌饒出台灣味\n",
      "賴品妤 Cosplay 社：ㄘ我的二次元替身攻擊\n",
      "月月鳥昆蟲研究社：跟鄭運鵬變身甲蟲王\n",
      "人像外拍打燈精進：有趣的L角佈燈守則\n",
      "人氣喫茶店 KADOYA 主廚帶你做日式洋菓子\n",
      "你適合買房嗎？給居住焦慮世代的購屋指南\n",
      "發展無限的 iPodcast-揭開播客教練的獲利模式\n",
      "量價交易精隨：打造股票、期貨完美交易策略\n",
      "掌握關鍵數據，黃金、原油投資高勝率全攻略\n",
      "改變籃球比賽的弧線-呂政儒與簡浩射手訓練\n",
      "王梓沅的 3D 英文筆記術：打造最強「說」「寫」英語資料庫\n",
      "跟著阿麗學俄文 : 打造標準的俄語發音\n",
      "韓式擠花神手：韓國人金老師的擠花杯子蛋糕\n",
      "臺菜廚神阿發師的 12 堂課 - 辦桌菜輕鬆做\n"
     ]
    }
   ],
   "source": [
    "course = []\n",
    "title = soup.find('div', class_='list-container').find_all('h4')\n",
    "for course in title:\n",
    "    if ((course.string) is not None):\n",
    "            print(course.string)"
   ]
  },
  {
   "cell_type": "code",
   "execution_count": 41,
   "metadata": {},
   "outputs": [],
   "source": [
    "# 關閉瀏覽器\n",
    "browser.close()"
   ]
  },
  {
   "cell_type": "markdown",
   "metadata": {},
   "source": [
    "### 2. 剛剛的做法只能取出第一頁，試著取出所有頁面的資料。"
   ]
  },
  {
   "cell_type": "code",
   "execution_count": 1,
   "metadata": {},
   "outputs": [],
   "source": [
    "from selenium import webdriver\n",
    "from selenium.webdriver.support.ui import Select\n",
    "from bs4 import BeautifulSoup\n",
    "\n",
    "browser = webdriver.Chrome(executable_path='./chromedriver')\n",
    "browser.get(\"https://hahow.in/courses\")"
   ]
  },
  {
   "cell_type": "code",
   "execution_count": 2,
   "metadata": {},
   "outputs": [],
   "source": [
    "# 取得資料（等瀏覽器資料出現後才執行）\n",
    "html_source = browser.page_source\n",
    "soup = BeautifulSoup(html_source, 'html.parser')\n"
   ]
  },
  {
   "cell_type": "code",
   "execution_count": 7,
   "metadata": {},
   "outputs": [
    {
     "ename": "AttributeError",
     "evalue": "'NoneType' object has no attribute 'text'",
     "output_type": "error",
     "traceback": [
      "\u001b[0;31m---------------------------------------------------------------------------\u001b[0m",
      "\u001b[0;31mAttributeError\u001b[0m                            Traceback (most recent call last)",
      "\u001b[0;32m<ipython-input-7-56195b55a8b7>\u001b[0m in \u001b[0;36m<module>\u001b[0;34m\u001b[0m\n\u001b[1;32m      2\u001b[0m \u001b[0;34m\u001b[0m\u001b[0m\n\u001b[1;32m      3\u001b[0m \u001b[0mpages\u001b[0m \u001b[0;34m=\u001b[0m \u001b[0msoup\u001b[0m\u001b[0;34m.\u001b[0m\u001b[0mfind\u001b[0m\u001b[0;34m(\u001b[0m\u001b[0;34m'span'\u001b[0m\u001b[0;34m,\u001b[0m \u001b[0mclass_\u001b[0m\u001b[0;34m=\u001b[0m\u001b[0;34m'fa fa-caret-down absolute'\u001b[0m\u001b[0;34m)\u001b[0m\u001b[0;34m\u001b[0m\u001b[0;34m\u001b[0m\u001b[0m\n\u001b[0;32m----> 4\u001b[0;31m \u001b[0mprint\u001b[0m\u001b[0;34m(\u001b[0m\u001b[0mpages\u001b[0m\u001b[0;34m.\u001b[0m\u001b[0mtext\u001b[0m\u001b[0;34m)\u001b[0m\u001b[0;34m\u001b[0m\u001b[0;34m\u001b[0m\u001b[0m\n\u001b[0m\u001b[1;32m      5\u001b[0m \u001b[0;31m# <span aria-hidden=\"true\" class=\"fa fa-caret-down absolute\"></span>\u001b[0m\u001b[0;34m\u001b[0m\u001b[0;34m\u001b[0m\u001b[0;34m\u001b[0m\u001b[0m\n",
      "\u001b[0;31mAttributeError\u001b[0m: 'NoneType' object has no attribute 'text'"
     ]
    }
   ],
   "source": [
    "# 1. 先取出全部有幾頁\n",
    "    \n",
    "pages = soup.find('span', class_='fa fa-caret-down absolute')\n",
    "print(pages.text)\n",
    "# <span aria-hidden=\"true\" class=\"fa fa-caret-down absolute\"></span>"
   ]
  },
  {
   "cell_type": "code",
   "execution_count": 37,
   "metadata": {},
   "outputs": [],
   "source": [
    "# 2. 每頁都取出資料放入 courses\n",
    "\n",
    "courses = []\n",
    "for i in '''Your Code''':\n",
    "    \n",
    "    '''\n",
    "    Your Code\n",
    "    '''\n",
    "    browser.close()"
   ]
  },
  {
   "cell_type": "code",
   "execution_count": 38,
   "metadata": {},
   "outputs": [
    {
     "name": "stdout",
     "output_type": "stream",
     "text": [
      "['顧客分類大師：Python x RFM 會員經營新觀點', '翻轉文字：給孩子好玩的創意寫作課！', '大人的蠟筆畫：活用油畫知識，寫實生活微光', '機器學習攻略：實戰心法到求職技巧', '法式甜點在地魂製作攻略－日日在家菓實日', '林長揚職場簡報術：一次搞定所有工作簡報！', '概念式時尚插畫｜我的小小時裝週', '羅寶鴻的安定教養課：12 個對話練習與心法', '七日減醣計畫「一週持續執行！」邊吃邊享瘦', '閱讀攝影的眼神 - 啟動你的影像理解力', '手機 App 開發入門：App Inventor 2 實作', '全民防疫通識課：陳建仁副總統來開講', '省錢攝影術：零基礎拍好美食＆商品！', 'Linux 我來教: CentOS/ RHEL 8 新世代雲端', '口譯員浩爾的打獵式聆聽＆資訊處理術', '資料變決策！從零上手 Tableau 大數據視覺化', '互動藝術程式創作入門 Creative Coding ', '人生管理學：把自己當成公司經營', '薩克斯風 - 13 堂基本功吹出專輯的美聲', '用實際案例學設計-美編的 InDesign 排版課', '動盪時代的資產配置：王伯達人生財務規劃學', '手繪轉電繪，我選 Procreate！', '氣球達人不藏私！宋俊霖的塞球雕塑造型課', '0-2 歲寶寶父母必修課 - 專業治療師開課囉！', '一支手機拍完行銷影片，產品賣更好！', 'Keynote即戰力：簡報製作到上台演講都搞定', '輕鬆學好道地美式發音！', '資料科學：Azure 機器學習工作室入門', '話聊庶務課－探索你說話的個人風格', '新手上路必學：電商人才求職全攻略！', 'Office論文格式技巧：高效編輯專業文件', '蝦皮個人賣家行銷術：突破網拍初期盲點  ', 'ZBrush 201 從初階到高階 - 隱藏密技大公開', 'PHP 攻略：Laravel 5.8 從入門到實務', '成功前進科技巨頭，百萬年薪面試術！', 'Github 免費架站術！輕鬆打造個人品牌', '網美咖啡廳在你家，九款鏡面蛋糕一次學', '產品分析入門：UX 設計師的思考術', 'Docker 部署入門完全指南-圖片速學攻略', 'Python 0 到 1 基礎商業數據分析實戰', '角色原型雕塑 - 走進電影美術的世界', '【AI 深度學習】新手入門應用篇', '一次搞懂專案管理 - 從入門到業界實務', '畫出有質感的 2D 手繪動畫 - Toon Boom', '你的遠端私人教練，從零開始的增肌訓練課', '新制多益聽力滿分攻略－高效率秒殺解題技巧', '指尖上的閃亮秘密 - 你的第一堂指甲養護課']\n"
     ]
    }
   ],
   "source": [
    "# 3. done!\n",
    "\n",
    "print(courses)"
   ]
  },
  {
   "cell_type": "code",
   "execution_count": null,
   "metadata": {},
   "outputs": [],
   "source": []
  }
 ],
 "metadata": {
  "kernelspec": {
   "display_name": "Python 3",
   "language": "python",
   "name": "python3"
  },
  "language_info": {
   "codemirror_mode": {
    "name": "ipython",
    "version": 3
   },
   "file_extension": ".py",
   "mimetype": "text/x-python",
   "name": "python",
   "nbconvert_exporter": "python",
   "pygments_lexer": "ipython3",
   "version": "3.6.8"
  }
 },
 "nbformat": 4,
 "nbformat_minor": 4
}
