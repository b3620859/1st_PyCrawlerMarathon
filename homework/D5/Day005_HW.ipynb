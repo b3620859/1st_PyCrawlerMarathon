{
 "cells": [
  {
   "cell_type": "markdown",
   "metadata": {},
   "source": [
    "# API 資料串接 - 以 Dcard API 實作範例\n",
    "\n",
    "* 利用 urllib 套件的 urlretrieve 方法下載檔案\n",
    "* 了解 Python File I/O 讀檔、寫檔的用法\n",
    "* 能用運用資源管理器 With Statement 優化寫法"
   ]
  },
  {
   "cell_type": "markdown",
   "metadata": {},
   "source": [
    "## 作業目標\n",
    "\n",
    "* 請利用 API: https://www.dcard.tw/_api/forums/pet/posts?popular=true 回答下列問題：\n",
    "\n",
    "1. 這個 API 一次會回傳幾筆資料？每一筆資料包含哪些欄位？\n",
    "2. 取出每一筆資料的「標題」、「貼文時間」、「留言人數」、「按讚人數」\n",
    "3. 計算熱門/非熱門文章的「平均留言人數」與「平均按讚人數」"
   ]
  },
  {
   "cell_type": "code",
   "execution_count": 4,
   "metadata": {},
   "outputs": [],
   "source": [
    "# 1. 這個 API 一次會回傳幾筆資料？每一筆資料包含哪些欄位？\n",
    "\n",
    "'''\n",
    "Your Code\n",
    "'''\n",
    "\n",
    "import requests\n",
    "import json\n",
    "\n",
    "url = 'https://www.dcard.tw/_api/forums/pet/posts?popular=true'\n",
    "\n",
    "htmlfile = requests.get(url)\n",
    "\n",
    "response = htmlfile.text\n",
    "data = json.loads(response)\n"
   ]
  },
  {
   "cell_type": "code",
   "execution_count": 9,
   "metadata": {},
   "outputs": [
    {
     "name": "stdout",
     "output_type": "stream",
     "text": [
      "retrurn 30 筆資料\n",
      "每一筆包含以下欄位：['id', 'title', 'excerpt', 'anonymousSchool', 'anonymousDepartment', 'pinned', 'forumId', 'replyId', 'createdAt', 'updatedAt', 'commentCount', 'likeCount', 'withNickname', 'tags', 'topics', 'meta', 'forumName', 'forumAlias', 'gender', 'school', 'replyTitle', 'mediaMeta', 'reactions', 'hidden', 'customStyle', 'isSuspiciousAccount', 'layout', 'withImages', 'withVideos', 'media', 'reportReasonText', 'postAvatar']\n"
     ]
    }
   ],
   "source": [
    "print('retrurn {} 筆資料'.format(len(data)))\n",
    "print('每一筆包含以下欄位：{}'.format([i for i in data[0]]))"
   ]
  },
  {
   "cell_type": "code",
   "execution_count": 16,
   "metadata": {},
   "outputs": [
    {
     "name": "stdout",
     "output_type": "stream",
     "text": [
      "標題:232586555\t 貼文時間:2019-11-28T04:08:18.539Z\t 留言人數:11\t 按讚人數:386\n",
      "標題:232587667\t 貼文時間:2019-11-28T07:19:45.391Z\t 留言人數:2\t 按讚人數:152\n",
      "標題:232592249\t 貼文時間:2019-11-29T00:25:38.826Z\t 留言人數:7\t 按讚人數:146\n",
      "標題:232585212\t 貼文時間:2019-11-27T19:05:47.181Z\t 留言人數:33\t 按讚人數:138\n",
      "標題:232589874\t 貼文時間:2019-11-28T13:44:17.224Z\t 留言人數:14\t 按讚人數:128\n",
      "標題:232588308\t 貼文時間:2019-11-28T09:04:40.825Z\t 留言人數:18\t 按讚人數:77\n",
      "標題:232584893\t 貼文時間:2019-11-27T17:48:07.040Z\t 留言人數:4\t 按讚人數:65\n",
      "標題:232589417\t 貼文時間:2019-11-28T12:25:11.285Z\t 留言人數:3\t 按讚人數:55\n",
      "標題:232589204\t 貼文時間:2019-11-28T11:47:21.176Z\t 留言人數:5\t 按讚人數:55\n",
      "標題:232591040\t 貼文時間:2019-11-28T16:22:31.895Z\t 留言人數:3\t 按讚人數:45\n",
      "標題:232588571\t 貼文時間:2019-11-28T09:43:33.709Z\t 留言人數:3\t 按讚人數:44\n",
      "標題:232589839\t 貼文時間:2019-11-28T13:38:34.117Z\t 留言人數:5\t 按讚人數:34\n",
      "標題:232586975\t 貼文時間:2019-11-28T05:23:12.530Z\t 留言人數:1\t 按讚人數:32\n",
      "標題:232590804\t 貼文時間:2019-11-28T15:47:50.708Z\t 留言人數:0\t 按讚人數:28\n",
      "標題:232586197\t 貼文時間:2019-11-28T02:52:25.651Z\t 留言人數:4\t 按讚人數:26\n",
      "標題:232591245\t 貼文時間:2019-11-28T16:51:07.018Z\t 留言人數:1\t 按讚人數:23\n",
      "標題:232590426\t 貼文時間:2019-11-28T14:57:09.825Z\t 留言人數:3\t 按讚人數:23\n",
      "標題:232587616\t 貼文時間:2019-11-28T07:11:04.741Z\t 留言人數:1\t 按讚人數:22\n",
      "標題:232589251\t 貼文時間:2019-11-28T11:55:17.571Z\t 留言人數:1\t 按讚人數:19\n",
      "標題:232591306\t 貼文時間:2019-11-28T17:00:22.755Z\t 留言人數:3\t 按讚人數:17\n",
      "標題:232586363\t 貼文時間:2019-11-28T03:29:49.177Z\t 留言人數:10\t 按讚人數:17\n",
      "標題:232587046\t 貼文時間:2019-11-28T05:35:09.787Z\t 留言人數:3\t 按讚人數:15\n",
      "標題:232589381\t 貼文時間:2019-11-28T12:18:21.317Z\t 留言人數:3\t 按讚人數:14\n",
      "標題:232586389\t 貼文時間:2019-11-28T03:34:49.818Z\t 留言人數:2\t 按讚人數:11\n",
      "標題:232586362\t 貼文時間:2019-11-28T03:29:33.883Z\t 留言人數:1\t 按讚人數:11\n",
      "標題:232587862\t 貼文時間:2019-11-28T07:55:21.256Z\t 留言人數:7\t 按讚人數:7\n",
      "標題:232586339\t 貼文時間:2019-11-28T03:23:31.964Z\t 留言人數:1\t 按讚人數:7\n",
      "標題:232589400\t 貼文時間:2019-11-28T12:22:13.105Z\t 留言人數:1\t 按讚人數:6\n",
      "標題:232589117\t 貼文時間:2019-11-28T11:30:50.129Z\t 留言人數:0\t 按讚人數:6\n",
      "標題:232586374\t 貼文時間:2019-11-28T03:32:03.781Z\t 留言人數:0\t 按讚人數:6\n"
     ]
    }
   ],
   "source": [
    "# 2. 取出每一筆資料的「標題」、「貼文時間」、「留言人數」、「按讚人數」\n",
    "\n",
    "'''\n",
    "Your Code\n",
    "'''\n",
    "for item in data:\n",
    "    print('標題:{}\\t 貼文時間:{}\\t 留言人數:{}\\t 按讚人數:{}'.format(item['id'], item['createdAt'], item['commentCount'], item['likeCount']))"
   ]
  },
  {
   "cell_type": "code",
   "execution_count": 17,
   "metadata": {},
   "outputs": [],
   "source": [
    "# 3. 計算熱門/非熱門文章的「平均留言人數」與「平均按讚人數」\n",
    "\n",
    "url_pop = 'https://www.dcard.tw/_api/forums/pet/posts?popular=true'\n",
    "url_nopop = 'https://www.dcard.tw/_api/forums/pet/posts?popular=false'\n",
    "\n",
    "pop_htmlfile = requests.get(url_pop)\n",
    "nopop_htmlfile = requests.get(url_nopop)\n",
    "\n",
    "pop_response = pop_htmlfile.text\n",
    "nopop_response = nopop_htmlfile.text\n",
    "\n",
    "pop_data = json.loads(pop_response)\n",
    "nopop_data = json.loads(nopop_response)"
   ]
  },
  {
   "cell_type": "code",
   "execution_count": 19,
   "metadata": {},
   "outputs": [
    {
     "name": "stdout",
     "output_type": "stream",
     "text": [
      "熱門文章共 30 筆\n",
      "總留言人數： 158 筆\n",
      "平均留言人數： 5.27 筆\n",
      "總按讚人數： 1833 筆\n",
      "平均按讚人數： 61.1 筆\n",
      "------------------------------\n",
      "非熱門文章共 30 筆\n",
      "總留言人數： 90 筆\n",
      "平均留言人數： 3.0 筆\n",
      "總按讚人數： 732 筆\n",
      "平均按讚人數： 24.4 筆\n"
     ]
    }
   ],
   "source": [
    "print('熱門文章共 {} 筆'.format(len(pop_data)))\n",
    "print('總留言人數： {} 筆'.format(sum([int(item['commentCount']) for item in pop_data ])))\n",
    "print('平均留言人數： {} 筆'.format(round(sum([int(item['commentCount']) for item in pop_data ]) / len(pop_data), 2)))\n",
    "print('總按讚人數： {} 筆'.format(sum([int(item['likeCount']) for item in pop_data ])))\n",
    "print('平均按讚人數： {} 筆'.format(round(sum([int(item['likeCount']) for item in pop_data ]) / len(pop_data), 2)))\n",
    "print(\"-\" * 30)\n",
    "print('非熱門文章共 {} 筆'.format(len(nopop_data)))\n",
    "print('總留言人數： {} 筆'.format(sum([int(item['commentCount']) for item in nopop_data ])))\n",
    "print('平均留言人數： {} 筆'.format(round(sum([int(item['commentCount']) for item in nopop_data ]) / len(nopop_data),2)))\n",
    "print('總按讚人數： {} 筆'.format(sum([int(item['likeCount']) for item in nopop_data ])))\n",
    "print('平均按讚人數： {} 筆'.format(round(sum([int(item['likeCount']) for item in nopop_data ]) / len(nopop_data),2)))"
   ]
  },
  {
   "cell_type": "code",
   "execution_count": null,
   "metadata": {},
   "outputs": [],
   "source": []
  }
 ],
 "metadata": {
  "kernelspec": {
   "display_name": "Python 3",
   "language": "python",
   "name": "python3"
  },
  "language_info": {
   "codemirror_mode": {
    "name": "ipython",
    "version": 3
   },
   "file_extension": ".py",
   "mimetype": "text/x-python",
   "name": "python",
   "nbconvert_exporter": "python",
   "pygments_lexer": "ipython3",
   "version": "3.6.8"
  }
 },
 "nbformat": 4,
 "nbformat_minor": 4
}
